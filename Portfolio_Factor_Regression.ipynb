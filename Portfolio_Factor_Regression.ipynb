{
 "cells": [
  {
   "cell_type": "markdown",
   "metadata": {},
   "source": [
    "# Portfolio Factor Regressions"
   ]
  },
  {
   "cell_type": "markdown",
   "metadata": {},
   "source": [
    "Let's run some regressions"
   ]
  },
  {
   "cell_type": "markdown",
   "metadata": {},
   "source": [
    "## 1. Get return data for securities (using closing prices)"
   ]
  },
  {
   "cell_type": "code",
   "execution_count": 1,
   "metadata": {},
   "outputs": [],
   "source": [
    "# Import packages\n",
    "import requests\n",
    "from datetime import datetime\n",
    "import pandas as pd"
   ]
  },
  {
   "cell_type": "code",
   "execution_count": 2,
   "metadata": {},
   "outputs": [],
   "source": [
    "# API Formatting\n",
    "api_url = \"https://www.alphavantage.co/query?function=TIME_SERIES_MONTHLY_ADJUSTED&symbol={}&apikey=\"\n",
    "api_key = \"\"\n",
    "api = api_url + api_key "
   ]
  },
  {
   "cell_type": "code",
   "execution_count": 3,
   "metadata": {},
   "outputs": [],
   "source": [
    "# Define closing_price function to retrieve closing price for monthly data\n",
    "def closing_price(data1, time_key_string):\n",
    "    '''\n",
    "    data1: json file from AlphaVantage\n",
    "    time_key_string: The string key inputed in json file to select the time (daily, weekly, monthly)\n",
    "    time_key_string2: If the security uses a different key string (e.g. includes volume)\n",
    "    \n",
    "    This function will create a list of list with dates and corresponding closing prices, adjusted for\n",
    "    dividends (by adding it)\n",
    "    '''\n",
    "    date_list = list(data1[time_key_string].keys())\n",
    "    closing_price_list = []\n",
    "    datetime_list = []\n",
    "    \n",
    "    for i in date_list:\n",
    "        closing_price = float(data1[time_key_string][i]['4. close']) + float(data1[time_key_string][i]['7. dividend amount'])\n",
    "        closing_price_list.append(closing_price)\n",
    "        datetime_list.append(datetime.strptime(i, '%Y-%m-%d').strftime('%Y-%m'))\n",
    "        \n",
    "    df_out = pd.DataFrame(list(zip(datetime_list, closing_price_list)), columns=['date', 'closing_price'])\n",
    "    df_out = df_out.set_index('date')\n",
    "    df_out = df_out.sort_index(ascending=True)\n",
    "    return df_out"
   ]
  },
  {
   "cell_type": "code",
   "execution_count": 4,
   "metadata": {},
   "outputs": [],
   "source": [
    "# Define returns function to calculate monthly returns from closing prices\n",
    "def returns(df):\n",
    "    '''\n",
    "    df = dataframe with prices against time\n",
    "    column_name = name of the price column used to calculate returns\n",
    "    \n",
    "    This function will generate the returns df\n",
    "    '''\n",
    "    pct_change_series = df['closing_price'].pct_change(periods=1)\n",
    "    df2 = pd.DataFrame(pct_change_series)\n",
    "    df2 = df2.rename(columns={'closing_price':'returns'})\n",
    "    return df2"
   ]
  },
  {
   "cell_type": "code",
   "execution_count": 5,
   "metadata": {},
   "outputs": [],
   "source": [
    "def get_all_securities(ticker_list, time_key_string):\n",
    "    '''\n",
    "    This function simply loops through and applies closing_price()\n",
    "    and returns() for a list of tickers\n",
    "    '''\n",
    "    init = 0\n",
    "    for i in ticker_list:\n",
    "        url = api.format(i)\n",
    "        data = requests.get(url).json()\n",
    "        df_closing = closing_price(data, time_key_string)\n",
    "        df_returns = returns(df_closing)\n",
    "        df_returns = df_returns.rename(columns={'returns': i})\n",
    "        if init == 0:\n",
    "            output = df_returns\n",
    "            init += 1\n",
    "        else:\n",
    "            output = pd.merge(output, df_returns, left_index=True, right_index=True)\n",
    "            init += 1\n",
    "    return output"
   ]
  },
  {
   "cell_type": "markdown",
   "metadata": {},
   "source": [
    "Careful, API limited to 5 calls per minute and 500 per day"
   ]
  },
  {
   "cell_type": "code",
   "execution_count": 6,
   "metadata": {},
   "outputs": [],
   "source": [
    "tickers1 = ['VUG', 'VWO', 'BNDX']\n",
    "tickers2 = ['PYPL', 'BABA', 'BLV']"
   ]
  },
  {
   "cell_type": "code",
   "execution_count": 7,
   "metadata": {},
   "outputs": [],
   "source": [
    "output1 = get_all_securities(tickers1,'Monthly Adjusted Time Series')"
   ]
  },
  {
   "cell_type": "code",
   "execution_count": 8,
   "metadata": {},
   "outputs": [],
   "source": [
    "output2 = get_all_securities(tickers2, 'Monthly Adjusted Time Series')"
   ]
  },
  {
   "cell_type": "code",
   "execution_count": 9,
   "metadata": {},
   "outputs": [],
   "source": [
    "final = pd.merge(output1, output2, left_index=True, right_index=True)"
   ]
  },
  {
   "cell_type": "code",
   "execution_count": 11,
   "metadata": {},
   "outputs": [],
   "source": [
    "#Save csv\n",
    "final.to_csv('security_returns.csv', sep=',', encoding='utf-8')"
   ]
  },
  {
   "cell_type": "code",
   "execution_count": 10,
   "metadata": {},
   "outputs": [
    {
     "data": {
      "text/html": [
       "<div>\n",
       "<style scoped>\n",
       "    .dataframe tbody tr th:only-of-type {\n",
       "        vertical-align: middle;\n",
       "    }\n",
       "\n",
       "    .dataframe tbody tr th {\n",
       "        vertical-align: top;\n",
       "    }\n",
       "\n",
       "    .dataframe thead th {\n",
       "        text-align: right;\n",
       "    }\n",
       "</style>\n",
       "<table border=\"1\" class=\"dataframe\">\n",
       "  <thead>\n",
       "    <tr style=\"text-align: right;\">\n",
       "      <th></th>\n",
       "      <th>VUG</th>\n",
       "      <th>VWO</th>\n",
       "      <th>BNDX</th>\n",
       "      <th>PYPL</th>\n",
       "      <th>BABA</th>\n",
       "      <th>BLV</th>\n",
       "    </tr>\n",
       "    <tr>\n",
       "      <th>date</th>\n",
       "      <th></th>\n",
       "      <th></th>\n",
       "      <th></th>\n",
       "      <th></th>\n",
       "      <th></th>\n",
       "      <th></th>\n",
       "    </tr>\n",
       "  </thead>\n",
       "  <tbody>\n",
       "    <tr>\n",
       "      <th>2015-08</th>\n",
       "      <td>-0.062958</td>\n",
       "      <td>-0.098643</td>\n",
       "      <td>-0.008126</td>\n",
       "      <td>NaN</td>\n",
       "      <td>-0.155987</td>\n",
       "      <td>-0.014326</td>\n",
       "    </tr>\n",
       "    <tr>\n",
       "      <th>2015-09</th>\n",
       "      <td>-0.028507</td>\n",
       "      <td>-0.028952</td>\n",
       "      <td>0.007147</td>\n",
       "      <td>-0.113143</td>\n",
       "      <td>-0.108137</td>\n",
       "      <td>0.006570</td>\n",
       "    </tr>\n",
       "    <tr>\n",
       "      <th>2015-10</th>\n",
       "      <td>0.085982</td>\n",
       "      <td>0.038760</td>\n",
       "      <td>0.004813</td>\n",
       "      <td>0.160116</td>\n",
       "      <td>0.421570</td>\n",
       "      <td>0.004042</td>\n",
       "    </tr>\n",
       "    <tr>\n",
       "      <th>2015-11</th>\n",
       "      <td>0.001464</td>\n",
       "      <td>-0.022962</td>\n",
       "      <td>0.000733</td>\n",
       "      <td>-0.020828</td>\n",
       "      <td>0.002982</td>\n",
       "      <td>-0.011720</td>\n",
       "    </tr>\n",
       "    <tr>\n",
       "      <th>2015-12</th>\n",
       "      <td>-0.024185</td>\n",
       "      <td>-0.034401</td>\n",
       "      <td>-0.002928</td>\n",
       "      <td>0.026659</td>\n",
       "      <td>-0.033421</td>\n",
       "      <td>-0.015014</td>\n",
       "    </tr>\n",
       "  </tbody>\n",
       "</table>\n",
       "</div>"
      ],
      "text/plain": [
       "              VUG       VWO      BNDX      PYPL      BABA       BLV\n",
       "date                                                               \n",
       "2015-08 -0.062958 -0.098643 -0.008126       NaN -0.155987 -0.014326\n",
       "2015-09 -0.028507 -0.028952  0.007147 -0.113143 -0.108137  0.006570\n",
       "2015-10  0.085982  0.038760  0.004813  0.160116  0.421570  0.004042\n",
       "2015-11  0.001464 -0.022962  0.000733 -0.020828  0.002982 -0.011720\n",
       "2015-12 -0.024185 -0.034401 -0.002928  0.026659 -0.033421 -0.015014"
      ]
     },
     "execution_count": 10,
     "metadata": {},
     "output_type": "execute_result"
    }
   ],
   "source": [
    "final.head()"
   ]
  },
  {
   "cell_type": "markdown",
   "metadata": {},
   "source": [
    "## 2. Get (Global) Fama French Factors"
   ]
  },
  {
   "cell_type": "code",
   "execution_count": 11,
   "metadata": {},
   "outputs": [],
   "source": [
    "FFC4_path = \"/Users/horacefung/Desktop/International_Data/Global_3_Factors.csv\"\n",
    "MOM_path = \"/Users/horacefung/Desktop/International_Data/Global_MOM_Factor.csv\""
   ]
  },
  {
   "cell_type": "code",
   "execution_count": 12,
   "metadata": {},
   "outputs": [],
   "source": [
    "FFC4 = pd.read_csv(FFC4_path)\n",
    "MOM = pd.read_csv(MOM_path)"
   ]
  },
  {
   "cell_type": "code",
   "execution_count": 13,
   "metadata": {},
   "outputs": [],
   "source": [
    "FFC4['Date'] = FFC4['Date'].apply(lambda x: datetime.strptime(str(x), '%Y%m').strftime('%Y-%m'))\n",
    "MOM['Date'] = MOM['Date'].apply(lambda x: datetime.strptime(str(x), '%Y%m').strftime('%Y-%m'))"
   ]
  },
  {
   "cell_type": "code",
   "execution_count": 14,
   "metadata": {},
   "outputs": [],
   "source": [
    "FFC4 = FFC4.set_index('Date')\n",
    "MOM = MOM.set_index('Date')\n",
    "\n",
    "FFC4 = FFC4.iloc[:, 4:8]\n",
    "MOM = pd.DataFrame(MOM['WML.1'])"
   ]
  },
  {
   "cell_type": "code",
   "execution_count": 15,
   "metadata": {},
   "outputs": [],
   "source": [
    "input_data = pd.merge(final, FFC4, left_index=True, right_index=True)\n",
    "input_data = pd.merge(input_data, MOM, left_index=True, right_index=True)"
   ]
  },
  {
   "cell_type": "code",
   "execution_count": 16,
   "metadata": {},
   "outputs": [],
   "source": [
    "def excess_returns(data, ticker_list, rf):\n",
    "    for i in ticker_list:\n",
    "        data[i] = data[i] - data[rf]\n",
    "    return data"
   ]
  },
  {
   "cell_type": "code",
   "execution_count": 17,
   "metadata": {},
   "outputs": [],
   "source": [
    "tickers = tickers1 + tickers2\n",
    "\n",
    "input_data = excess_returns(input_data, tickers, 'RF.1')"
   ]
  },
  {
   "cell_type": "markdown",
   "metadata": {},
   "source": [
    "## 3. Create portfolio"
   ]
  },
  {
   "cell_type": "code",
   "execution_count": 18,
   "metadata": {},
   "outputs": [],
   "source": [
    "import math"
   ]
  },
  {
   "cell_type": "code",
   "execution_count": 19,
   "metadata": {},
   "outputs": [
    {
     "data": {
      "text/plain": [
       "['VUG', 'VWO', 'BNDX', 'PYPL', 'BABA', 'BLV']"
      ]
     },
     "execution_count": 19,
     "metadata": {},
     "output_type": "execute_result"
    }
   ],
   "source": [
    "tickers"
   ]
  },
  {
   "cell_type": "code",
   "execution_count": 20,
   "metadata": {},
   "outputs": [],
   "source": [
    "weights = [0.524, 0.049, 0.063, 0.141, 0.09, 0.133]"
   ]
  },
  {
   "cell_type": "code",
   "execution_count": 21,
   "metadata": {},
   "outputs": [],
   "source": [
    "input_data['Portfolio_Return'] = input_data[tickers].mul(weights).sum(1)"
   ]
  },
  {
   "cell_type": "code",
   "execution_count": 88,
   "metadata": {},
   "outputs": [
    {
     "name": "stdout",
     "output_type": "stream",
     "text": [
      "0.10524803225230524\n"
     ]
    }
   ],
   "source": [
    "average_excess_return = input_data['Portfolio_Return'].mean() * 12\n",
    "print(average_excess_return)"
   ]
  },
  {
   "cell_type": "code",
   "execution_count": 81,
   "metadata": {},
   "outputs": [
    {
     "name": "stdout",
     "output_type": "stream",
     "text": [
      "0.11109246030600863\n"
     ]
    }
   ],
   "source": [
    "average_std = input_data['Mkt-RF.1'].std() * math.sqrt(12)\n",
    "print(average_std)"
   ]
  },
  {
   "cell_type": "code",
   "execution_count": 90,
   "metadata": {},
   "outputs": [
    {
     "data": {
      "text/plain": [
       "0.07832581963895462"
      ]
     },
     "execution_count": 90,
     "metadata": {},
     "output_type": "execute_result"
    }
   ],
   "source": [
    "dr = input_data[input_data['Portfolio_Return'] < 0]['Portfolio_Return'].std() * math.sqrt(12)\n",
    "dr"
   ]
  },
  {
   "cell_type": "code",
   "execution_count": 24,
   "metadata": {},
   "outputs": [
    {
     "name": "stdout",
     "output_type": "stream",
     "text": [
      "Sharpe Ratio: 0.8467338884807383\n"
     ]
    }
   ],
   "source": [
    "print(\"Sharpe Ratio: \" + str(average_excess_return/average_std))"
   ]
  },
  {
   "cell_type": "code",
   "execution_count": 91,
   "metadata": {},
   "outputs": [
    {
     "name": "stdout",
     "output_type": "stream",
     "text": [
      "Sortino Ratio: 1.343720790123224\n"
     ]
    }
   ],
   "source": [
    "print(\"Sortino Ratio: \" + str(average_excess_return/dr))"
   ]
  },
  {
   "cell_type": "markdown",
   "metadata": {},
   "source": [
    "## 4. Regression"
   ]
  },
  {
   "cell_type": "code",
   "execution_count": 42,
   "metadata": {},
   "outputs": [
    {
     "data": {
      "text/plain": [
       "array(['VUG', 'VWO', 'BNDX', 'PYPL', 'BABA', 'BLV', 'Mkt-RF.1', 'SMB.1',\n",
       "       'HML.1', 'RF.1', 'WML.1', 'Portfolio_Return'], dtype=object)"
      ]
     },
     "execution_count": 42,
     "metadata": {},
     "output_type": "execute_result"
    }
   ],
   "source": [
    "input_data.columns.values"
   ]
  },
  {
   "cell_type": "code",
   "execution_count": 28,
   "metadata": {},
   "outputs": [
    {
     "data": {
      "text/html": [
       "<table class=\"simpletable\">\n",
       "<caption>OLS Regression Results</caption>\n",
       "<tr>\n",
       "  <th>Dep. Variable:</th>    <td>Portfolio_Return</td> <th>  R-squared:         </th> <td>   0.881</td>\n",
       "</tr>\n",
       "<tr>\n",
       "  <th>Model:</th>                   <td>OLS</td>       <th>  Adj. R-squared:    </th> <td>   0.867</td>\n",
       "</tr>\n",
       "<tr>\n",
       "  <th>Method:</th>             <td>Least Squares</td>  <th>  F-statistic:       </th> <td>   62.90</td>\n",
       "</tr>\n",
       "<tr>\n",
       "  <th>Date:</th>             <td>Tue, 25 Dec 2018</td> <th>  Prob (F-statistic):</th> <td>3.10e-15</td>\n",
       "</tr>\n",
       "<tr>\n",
       "  <th>Time:</th>                 <td>18:54:14</td>     <th>  Log-Likelihood:    </th> <td>  116.44</td>\n",
       "</tr>\n",
       "<tr>\n",
       "  <th>No. Observations:</th>      <td>    39</td>      <th>  AIC:               </th> <td>  -222.9</td>\n",
       "</tr>\n",
       "<tr>\n",
       "  <th>Df Residuals:</th>          <td>    34</td>      <th>  BIC:               </th> <td>  -214.6</td>\n",
       "</tr>\n",
       "<tr>\n",
       "  <th>Df Model:</th>              <td>     4</td>      <th>                     </th>     <td> </td>   \n",
       "</tr>\n",
       "<tr>\n",
       "  <th>Covariance Type:</th>      <td>nonrobust</td>    <th>                     </th>     <td> </td>   \n",
       "</tr>\n",
       "</table>\n",
       "<table class=\"simpletable\">\n",
       "<tr>\n",
       "      <td></td>        <th>coef</th>     <th>std err</th>      <th>t</th>      <th>P>|t|</th>  <th>[0.025</th>    <th>0.975]</th>  \n",
       "</tr>\n",
       "<tr>\n",
       "  <th>const</th>    <td>    0.0032</td> <td>    0.002</td> <td>    1.485</td> <td> 0.147</td> <td>   -0.001</td> <td>    0.008</td>\n",
       "</tr>\n",
       "<tr>\n",
       "  <th>Mkt-RF.1</th> <td>    0.9841</td> <td>    0.069</td> <td>   14.192</td> <td> 0.000</td> <td>    0.843</td> <td>    1.125</td>\n",
       "</tr>\n",
       "<tr>\n",
       "  <th>SMB.1</th>    <td>   -0.2289</td> <td>    0.175</td> <td>   -1.310</td> <td> 0.199</td> <td>   -0.584</td> <td>    0.126</td>\n",
       "</tr>\n",
       "<tr>\n",
       "  <th>HML.1</th>    <td>   -0.5213</td> <td>    0.146</td> <td>   -3.574</td> <td> 0.001</td> <td>   -0.818</td> <td>   -0.225</td>\n",
       "</tr>\n",
       "<tr>\n",
       "  <th>WML.1</th>    <td>    0.0204</td> <td>    0.118</td> <td>    0.172</td> <td> 0.864</td> <td>   -0.220</td> <td>    0.261</td>\n",
       "</tr>\n",
       "</table>\n",
       "<table class=\"simpletable\">\n",
       "<tr>\n",
       "  <th>Omnibus:</th>       <td> 2.524</td> <th>  Durbin-Watson:     </th> <td>   2.221</td>\n",
       "</tr>\n",
       "<tr>\n",
       "  <th>Prob(Omnibus):</th> <td> 0.283</td> <th>  Jarque-Bera (JB):  </th> <td>   1.909</td>\n",
       "</tr>\n",
       "<tr>\n",
       "  <th>Skew:</th>          <td> 0.374</td> <th>  Prob(JB):          </th> <td>   0.385</td>\n",
       "</tr>\n",
       "<tr>\n",
       "  <th>Kurtosis:</th>      <td> 2.216</td> <th>  Cond. No.          </th> <td>    89.2</td>\n",
       "</tr>\n",
       "</table><br/><br/>Warnings:<br/>[1] Standard Errors assume that the covariance matrix of the errors is correctly specified."
      ],
      "text/plain": [
       "<class 'statsmodels.iolib.summary.Summary'>\n",
       "\"\"\"\n",
       "                            OLS Regression Results                            \n",
       "==============================================================================\n",
       "Dep. Variable:       Portfolio_Return   R-squared:                       0.881\n",
       "Model:                            OLS   Adj. R-squared:                  0.867\n",
       "Method:                 Least Squares   F-statistic:                     62.90\n",
       "Date:                Tue, 25 Dec 2018   Prob (F-statistic):           3.10e-15\n",
       "Time:                        18:54:14   Log-Likelihood:                 116.44\n",
       "No. Observations:                  39   AIC:                            -222.9\n",
       "Df Residuals:                      34   BIC:                            -214.6\n",
       "Df Model:                           4                                         \n",
       "Covariance Type:            nonrobust                                         \n",
       "==============================================================================\n",
       "                 coef    std err          t      P>|t|      [0.025      0.975]\n",
       "------------------------------------------------------------------------------\n",
       "const          0.0032      0.002      1.485      0.147      -0.001       0.008\n",
       "Mkt-RF.1       0.9841      0.069     14.192      0.000       0.843       1.125\n",
       "SMB.1         -0.2289      0.175     -1.310      0.199      -0.584       0.126\n",
       "HML.1         -0.5213      0.146     -3.574      0.001      -0.818      -0.225\n",
       "WML.1          0.0204      0.118      0.172      0.864      -0.220       0.261\n",
       "==============================================================================\n",
       "Omnibus:                        2.524   Durbin-Watson:                   2.221\n",
       "Prob(Omnibus):                  0.283   Jarque-Bera (JB):                1.909\n",
       "Skew:                           0.374   Prob(JB):                        0.385\n",
       "Kurtosis:                       2.216   Cond. No.                         89.2\n",
       "==============================================================================\n",
       "\n",
       "Warnings:\n",
       "[1] Standard Errors assume that the covariance matrix of the errors is correctly specified.\n",
       "\"\"\""
      ]
     },
     "execution_count": 28,
     "metadata": {},
     "output_type": "execute_result"
    }
   ],
   "source": [
    "import statsmodels.api as sm\n",
    "\n",
    "X = sm.add_constant(input_data[['Mkt-RF.1', 'SMB.1','HML.1', 'WML.1']])\n",
    "y = input_data[\"Portfolio_Return\"]\n",
    "\n",
    "# Note the difference in argument order\n",
    "model = sm.OLS(y, X).fit()\n",
    "predictions = model.predict(X) # make the predictions by the model\n",
    "\n",
    "# Print out the statistics\n",
    "model.summary()"
   ]
  },
  {
   "cell_type": "code",
   "execution_count": 32,
   "metadata": {},
   "outputs": [
    {
     "data": {
      "text/html": [
       "<div>\n",
       "<style scoped>\n",
       "    .dataframe tbody tr th:only-of-type {\n",
       "        vertical-align: middle;\n",
       "    }\n",
       "\n",
       "    .dataframe tbody tr th {\n",
       "        vertical-align: top;\n",
       "    }\n",
       "\n",
       "    .dataframe thead th {\n",
       "        text-align: right;\n",
       "    }\n",
       "</style>\n",
       "<table border=\"1\" class=\"dataframe\">\n",
       "  <thead>\n",
       "    <tr style=\"text-align: right;\">\n",
       "      <th></th>\n",
       "      <th>VUG</th>\n",
       "      <th>VWO</th>\n",
       "      <th>BNDX</th>\n",
       "      <th>PYPL</th>\n",
       "      <th>BABA</th>\n",
       "      <th>BLV</th>\n",
       "      <th>Mkt-RF.1</th>\n",
       "      <th>SMB.1</th>\n",
       "      <th>HML.1</th>\n",
       "      <th>WML.1</th>\n",
       "    </tr>\n",
       "  </thead>\n",
       "  <tbody>\n",
       "    <tr>\n",
       "      <th>VUG</th>\n",
       "      <td>1.000000</td>\n",
       "      <td>0.699208</td>\n",
       "      <td>-0.014854</td>\n",
       "      <td>0.596362</td>\n",
       "      <td>0.715504</td>\n",
       "      <td>0.271135</td>\n",
       "      <td>0.932730</td>\n",
       "      <td>0.059649</td>\n",
       "      <td>-0.348295</td>\n",
       "      <td>0.024915</td>\n",
       "    </tr>\n",
       "    <tr>\n",
       "      <th>VWO</th>\n",
       "      <td>0.699208</td>\n",
       "      <td>1.000000</td>\n",
       "      <td>0.065908</td>\n",
       "      <td>0.359342</td>\n",
       "      <td>0.673471</td>\n",
       "      <td>0.468263</td>\n",
       "      <td>0.789311</td>\n",
       "      <td>0.097795</td>\n",
       "      <td>-0.053166</td>\n",
       "      <td>-0.014194</td>\n",
       "    </tr>\n",
       "    <tr>\n",
       "      <th>BNDX</th>\n",
       "      <td>-0.014854</td>\n",
       "      <td>0.065908</td>\n",
       "      <td>1.000000</td>\n",
       "      <td>-0.112896</td>\n",
       "      <td>-0.068946</td>\n",
       "      <td>0.710273</td>\n",
       "      <td>-0.091546</td>\n",
       "      <td>-0.020908</td>\n",
       "      <td>-0.284797</td>\n",
       "      <td>0.075576</td>\n",
       "    </tr>\n",
       "    <tr>\n",
       "      <th>PYPL</th>\n",
       "      <td>0.596362</td>\n",
       "      <td>0.359342</td>\n",
       "      <td>-0.112896</td>\n",
       "      <td>1.000000</td>\n",
       "      <td>0.604126</td>\n",
       "      <td>0.154655</td>\n",
       "      <td>0.538323</td>\n",
       "      <td>-0.022189</td>\n",
       "      <td>-0.339186</td>\n",
       "      <td>0.135661</td>\n",
       "    </tr>\n",
       "    <tr>\n",
       "      <th>BABA</th>\n",
       "      <td>0.715504</td>\n",
       "      <td>0.673471</td>\n",
       "      <td>-0.068946</td>\n",
       "      <td>0.604126</td>\n",
       "      <td>1.000000</td>\n",
       "      <td>0.211208</td>\n",
       "      <td>0.727952</td>\n",
       "      <td>0.080878</td>\n",
       "      <td>-0.163587</td>\n",
       "      <td>-0.048734</td>\n",
       "    </tr>\n",
       "    <tr>\n",
       "      <th>BLV</th>\n",
       "      <td>0.271135</td>\n",
       "      <td>0.468263</td>\n",
       "      <td>0.710273</td>\n",
       "      <td>0.154655</td>\n",
       "      <td>0.211208</td>\n",
       "      <td>1.000000</td>\n",
       "      <td>0.232232</td>\n",
       "      <td>0.146979</td>\n",
       "      <td>-0.331569</td>\n",
       "      <td>0.159473</td>\n",
       "    </tr>\n",
       "    <tr>\n",
       "      <th>Mkt-RF.1</th>\n",
       "      <td>0.932730</td>\n",
       "      <td>0.789311</td>\n",
       "      <td>-0.091546</td>\n",
       "      <td>0.538323</td>\n",
       "      <td>0.727952</td>\n",
       "      <td>0.232232</td>\n",
       "      <td>1.000000</td>\n",
       "      <td>0.090589</td>\n",
       "      <td>-0.075178</td>\n",
       "      <td>-0.167479</td>\n",
       "    </tr>\n",
       "    <tr>\n",
       "      <th>SMB.1</th>\n",
       "      <td>0.059649</td>\n",
       "      <td>0.097795</td>\n",
       "      <td>-0.020908</td>\n",
       "      <td>-0.022189</td>\n",
       "      <td>0.080878</td>\n",
       "      <td>0.146979</td>\n",
       "      <td>0.090589</td>\n",
       "      <td>1.000000</td>\n",
       "      <td>-0.213836</td>\n",
       "      <td>0.081639</td>\n",
       "    </tr>\n",
       "    <tr>\n",
       "      <th>HML.1</th>\n",
       "      <td>-0.348295</td>\n",
       "      <td>-0.053166</td>\n",
       "      <td>-0.284797</td>\n",
       "      <td>-0.339186</td>\n",
       "      <td>-0.163587</td>\n",
       "      <td>-0.331569</td>\n",
       "      <td>-0.075178</td>\n",
       "      <td>-0.213836</td>\n",
       "      <td>1.000000</td>\n",
       "      <td>-0.643433</td>\n",
       "    </tr>\n",
       "    <tr>\n",
       "      <th>WML.1</th>\n",
       "      <td>0.024915</td>\n",
       "      <td>-0.014194</td>\n",
       "      <td>0.075576</td>\n",
       "      <td>0.135661</td>\n",
       "      <td>-0.048734</td>\n",
       "      <td>0.159473</td>\n",
       "      <td>-0.167479</td>\n",
       "      <td>0.081639</td>\n",
       "      <td>-0.643433</td>\n",
       "      <td>1.000000</td>\n",
       "    </tr>\n",
       "  </tbody>\n",
       "</table>\n",
       "</div>"
      ],
      "text/plain": [
       "               VUG       VWO      BNDX      PYPL      BABA       BLV  \\\n",
       "VUG       1.000000  0.699208 -0.014854  0.596362  0.715504  0.271135   \n",
       "VWO       0.699208  1.000000  0.065908  0.359342  0.673471  0.468263   \n",
       "BNDX     -0.014854  0.065908  1.000000 -0.112896 -0.068946  0.710273   \n",
       "PYPL      0.596362  0.359342 -0.112896  1.000000  0.604126  0.154655   \n",
       "BABA      0.715504  0.673471 -0.068946  0.604126  1.000000  0.211208   \n",
       "BLV       0.271135  0.468263  0.710273  0.154655  0.211208  1.000000   \n",
       "Mkt-RF.1  0.932730  0.789311 -0.091546  0.538323  0.727952  0.232232   \n",
       "SMB.1     0.059649  0.097795 -0.020908 -0.022189  0.080878  0.146979   \n",
       "HML.1    -0.348295 -0.053166 -0.284797 -0.339186 -0.163587 -0.331569   \n",
       "WML.1     0.024915 -0.014194  0.075576  0.135661 -0.048734  0.159473   \n",
       "\n",
       "          Mkt-RF.1     SMB.1     HML.1     WML.1  \n",
       "VUG       0.932730  0.059649 -0.348295  0.024915  \n",
       "VWO       0.789311  0.097795 -0.053166 -0.014194  \n",
       "BNDX     -0.091546 -0.020908 -0.284797  0.075576  \n",
       "PYPL      0.538323 -0.022189 -0.339186  0.135661  \n",
       "BABA      0.727952  0.080878 -0.163587 -0.048734  \n",
       "BLV       0.232232  0.146979 -0.331569  0.159473  \n",
       "Mkt-RF.1  1.000000  0.090589 -0.075178 -0.167479  \n",
       "SMB.1     0.090589  1.000000 -0.213836  0.081639  \n",
       "HML.1    -0.075178 -0.213836  1.000000 -0.643433  \n",
       "WML.1    -0.167479  0.081639 -0.643433  1.000000  "
      ]
     },
     "execution_count": 32,
     "metadata": {},
     "output_type": "execute_result"
    }
   ],
   "source": [
    "input_data[tickers + ['Mkt-RF.1', 'SMB.1','HML.1', 'WML.1']].corr()"
   ]
  },
  {
   "cell_type": "markdown",
   "metadata": {},
   "source": [
    "## 5. Optimize "
   ]
  },
  {
   "cell_type": "code",
   "execution_count": 25,
   "metadata": {},
   "outputs": [],
   "source": [
    "opt_data = input_data.copy()"
   ]
  },
  {
   "cell_type": "code",
   "execution_count": 104,
   "metadata": {},
   "outputs": [],
   "source": [
    "equity_tickers = ['VUG','VWO', 'BNDX','BLV']"
   ]
  },
  {
   "cell_type": "code",
   "execution_count": 73,
   "metadata": {},
   "outputs": [],
   "source": [
    "def portfolio_return(weights, opt_data):\n",
    "    returns = opt_data[equity_tickers].mul(weights).sum(1)\n",
    "    returns = returns.mean() * 12\n",
    "    return returns"
   ]
  },
  {
   "cell_type": "code",
   "execution_count": 74,
   "metadata": {},
   "outputs": [],
   "source": [
    "def portfolio_volatility(weights, opt_data):\n",
    "    returns = opt_data[equity_tickers].mul(weights).sum(1)\n",
    "    returns = returns.std() * math.sqrt(12)\n",
    "    return returns"
   ]
  },
  {
   "cell_type": "code",
   "execution_count": 92,
   "metadata": {},
   "outputs": [],
   "source": [
    "def portfolio_downside(weights, opt_data):\n",
    "    returns = opt_data[equity_tickers].mul(weights).sum(1)\n",
    "    down_returns = returns[returns < 0].std() * math.sqrt(12)\n",
    "    return down_returns"
   ]
  },
  {
   "cell_type": "code",
   "execution_count": 75,
   "metadata": {},
   "outputs": [],
   "source": [
    "def sharpe_ratio(weights):\n",
    "    global opt_data\n",
    "    return -portfolio_return(weights, opt_data)/portfolio_volatility(weights, opt_data)"
   ]
  },
  {
   "cell_type": "code",
   "execution_count": 96,
   "metadata": {},
   "outputs": [],
   "source": [
    "def sortino_ratio(weights):\n",
    "    global opt_data\n",
    "    return -portfolio_return(weights, opt_data)/portfolio_downside(weights, opt_data)"
   ]
  },
  {
   "cell_type": "code",
   "execution_count": 105,
   "metadata": {},
   "outputs": [],
   "source": [
    "import numpy as np\n",
    "from scipy.optimize import minimize\n",
    "from scipy.optimize import LinearConstraint\n",
    "from scipy.optimize import Bounds\n",
    "\n",
    "linear_constraint = LinearConstraint([1,1,1,1], [0], [1])\n",
    "bounds = Bounds([0,0,0,0], [10,10,10,10])\n",
    "\n",
    "x0 = [0.7,0.1,0.1,0.1]\n",
    "\n",
    "res = minimize(sortino_ratio, x0, constraints=[linear_constraint], bounds=bounds)"
   ]
  },
  {
   "cell_type": "code",
   "execution_count": 106,
   "metadata": {},
   "outputs": [
    {
     "data": {
      "text/plain": [
       "[0.9083229219548346, 1.290108349405947e-14, 0.0, 1.0707785682386715e-14]"
      ]
     },
     "execution_count": 106,
     "metadata": {},
     "output_type": "execute_result"
    }
   ],
   "source": [
    "list(res.x)"
   ]
  },
  {
   "cell_type": "code",
   "execution_count": 99,
   "metadata": {},
   "outputs": [
    {
     "data": {
      "text/plain": [
       "-3.0333368196152883"
      ]
     },
     "execution_count": 99,
     "metadata": {},
     "output_type": "execute_result"
    }
   ],
   "source": [
    "sortino_ratio(res.x)"
   ]
  },
  {
   "cell_type": "code",
   "execution_count": 68,
   "metadata": {},
   "outputs": [
    {
     "data": {
      "text/plain": [
       "['VUG', 'VWO', 'BNDX', 'PYPL', 'BABA', 'BLV']"
      ]
     },
     "execution_count": 68,
     "metadata": {},
     "output_type": "execute_result"
    }
   ],
   "source": [
    "tickers"
   ]
  },
  {
   "cell_type": "code",
   "execution_count": null,
   "metadata": {},
   "outputs": [],
   "source": []
  }
 ],
 "metadata": {
  "kernelspec": {
   "display_name": "Python [conda env:anaconda]",
   "language": "python",
   "name": "conda-env-anaconda-py"
  },
  "language_info": {
   "codemirror_mode": {
    "name": "ipython",
    "version": 3
   },
   "file_extension": ".py",
   "mimetype": "text/x-python",
   "name": "python",
   "nbconvert_exporter": "python",
   "pygments_lexer": "ipython3",
   "version": "3.5.2"
  }
 },
 "nbformat": 4,
 "nbformat_minor": 2
}
